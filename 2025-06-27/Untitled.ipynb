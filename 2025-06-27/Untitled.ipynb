{
 "cells": [
  {
   "cell_type": "markdown",
   "id": "ed8d5dea-da5d-4370-a709-40a5bf9de172",
   "metadata": {},
   "source": [
    "# graph insertion"
   ]
  },
  {
   "cell_type": "code",
   "execution_count": null,
   "id": "27bc2080-14a4-4078-b2be-a8b006c31444",
   "metadata": {},
   "outputs": [],
   "source": [
    "    root\n",
    "    /   \\\n",
    "  1      "
   ]
  }
 ],
 "metadata": {
  "kernelspec": {
   "display_name": "Python 3 (ipykernel)",
   "language": "python",
   "name": "python3"
  },
  "language_info": {
   "codemirror_mode": {
    "name": "ipython",
    "version": 3
   },
   "file_extension": ".py",
   "mimetype": "text/x-python",
   "name": "python",
   "nbconvert_exporter": "python",
   "pygments_lexer": "ipython3",
   "version": "3.12.3"
  }
 },
 "nbformat": 4,
 "nbformat_minor": 5
}
