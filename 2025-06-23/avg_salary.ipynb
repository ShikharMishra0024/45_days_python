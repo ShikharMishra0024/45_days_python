{
 "cells": [
  {
   "cell_type": "code",
   "execution_count": 21,
   "id": "ccc9f4f0-c7d8-4359-bdf2-86defd76090d",
   "metadata": {},
   "outputs": [],
   "source": [
    "# avg salary by each dep\n",
    "# sort by dep name"
   ]
  },
  {
   "cell_type": "markdown",
   "id": "a7ec1335-b1f3-4c6a-ba5a-7c3922b6b870",
   "metadata": {},
   "source": [
    "### avg salary by each dep"
   ]
  },
  {
   "cell_type": "code",
   "execution_count": 22,
   "id": "db43b803-4f71-40be-a30d-5eae65f2f89f",
   "metadata": {},
   "outputs": [
    {
     "name": "stdout",
     "output_type": "stream",
     "text": [
      "{'economics': ['200000\\n', '200000\\n', '200000\\n', '200000\\n', '200000\\n', '200000\\n', '200000\\n', '20000\\n', '200000\\n', '200000\\n', '200000\\n', '200000\\n', '200000\\n', '200000\\n', '200000\\n', '200000\\n', '200000\\n', '200000\\n', '200000\\n', '200000\\n', '200000\\n'], 'labour': ['90000\\n', '90000\\n', '90000\\n', '90000\\n', '90000\\n', '3498\\n', '9000\\n', '3000\\n', '90000\\n', '90500\\n', '11000\\n', '9000\\n', '9000\\n', '10000\\n', '90000\\n', '90000\\n', '90000\\n', '90000\\n', '90000\\n', '90000\\n', '90000\\n'], 'DE': ['1630000\\n', '78000\\n', '48000\\n', '87000\\n', '40700\\n', '50000\\n', '35000\\n', '80000\\n', '80000\\n', '80000\\n', '80350\\n', '800300\\n', '803400\\n', '80000\\n', '80000\\n', '80000\\n', '80000\\n', '80000\\n', '80000\\n', '80000\\n', '80000\\n'], 'lawyer': ['200000\\n', '300000\\n', '20000\\n', '100000\\n', '200000\\n', '200000\\n', '200000\\n', '200000\\n', '220000\\n', '200000\\n', '200000\\n', '200000\\n', '200000\\n', '200000\\n', '200000\\n', '200000\\n', '200000\\n', '200000\\n', '200000\\n', '200000\\n']}\n"
     ]
    }
   ],
   "source": [
    "with open(\"employees.csv\", \"r\") as row:\n",
    "    # first line is header\n",
    "    row.readline()\n",
    "    \n",
    "    dic = {}\n",
    "    for r in row.readlines():\n",
    "        if r == \"\\n\":\n",
    "            # break if last line\n",
    "            break\n",
    "\n",
    "        salary = r.split(\",\")[-1]\n",
    "        dep = r.split(\",\")[2]\n",
    "        if dep in dic:\n",
    "            dic[dep].append(salary)\n",
    "        else:\n",
    "            dic[dep] = [salary]\n",
    "print(dic)"
   ]
  },
  {
   "cell_type": "code",
   "execution_count": 23,
   "id": "dafeb757-fffe-43d3-bc03-aa9c4e0e261b",
   "metadata": {},
   "outputs": [
    {
     "name": "stdout",
     "output_type": "stream",
     "text": [
      "{'economics': 191428, 'labour': 62618, 'DE': 215845, 'lawyer': 192000}\n"
     ]
    }
   ],
   "source": [
    "avg_sal = {}\n",
    "for key, value in dic.items():\n",
    "    total_salary = 0\n",
    "    for salary in dic[key]:\n",
    "        total_salary += int(salary.split(\"\\n\")[0])\n",
    "    avg_sal[key] = total_salary // len(dic[key])\n",
    "\n",
    "print(avg_sal)"
   ]
  },
  {
   "cell_type": "code",
   "execution_count": null,
   "id": "ba3e857c-8e7a-4392-b46c-fd19377a4529",
   "metadata": {},
   "outputs": [],
   "source": []
  },
  {
   "cell_type": "markdown",
   "id": "3c8c43cb-a51b-4b8b-ad5d-2bb9f1d49279",
   "metadata": {},
   "source": [
    "### sort by dep name"
   ]
  },
  {
   "cell_type": "code",
   "execution_count": 25,
   "id": "bdb1f71e-1a07-4f49-a0e8-0ff2a869a2fe",
   "metadata": {},
   "outputs": [],
   "source": [
    "dep_name = list(dic.keys())"
   ]
  },
  {
   "cell_type": "code",
   "execution_count": 27,
   "id": "a6dd9da2-1fba-45da-9652-a1072ddfb8d9",
   "metadata": {},
   "outputs": [],
   "source": [
    "def swap(dep, a, b):\n",
    "    temp = dep[a]\n",
    "    dep[a] = dep[b]\n",
    "    dep[b] = temp"
   ]
  },
  {
   "cell_type": "code",
   "execution_count": 28,
   "id": "b935a1c3-8c4f-4f0d-9fb3-a4ab012257db",
   "metadata": {},
   "outputs": [
    {
     "name": "stdout",
     "output_type": "stream",
     "text": [
      "['DE', 'labour', 'economics', 'lawyer']\n",
      "['DE', 'economics', 'labour', 'lawyer']\n",
      "['DE', 'economics', 'labour', 'lawyer']\n",
      "['DE', 'economics', 'labour', 'lawyer']\n"
     ]
    }
   ],
   "source": [
    "for i in range(len(dep_name)-1):\n",
    "    smallest = i\n",
    "    for j in range(i+1, len(dep_name)):\n",
    "        if dep_name[smallest] > dep_name[j]:\n",
    "            smallest = j\n",
    "    swap(dep_name, i, smallest)\n",
    "print(dep_name)"
   ]
  },
  {
   "cell_type": "code",
   "execution_count": null,
   "id": "1b102a7e-f76e-41ab-b83e-776e26632960",
   "metadata": {},
   "outputs": [],
   "source": []
  }
 ],
 "metadata": {
  "kernelspec": {
   "display_name": "Python 3 (ipykernel)",
   "language": "python",
   "name": "python3"
  },
  "language_info": {
   "codemirror_mode": {
    "name": "ipython",
    "version": 3
   },
   "file_extension": ".py",
   "mimetype": "text/x-python",
   "name": "python",
   "nbconvert_exporter": "python",
   "pygments_lexer": "ipython3",
   "version": "3.12.3"
  }
 },
 "nbformat": 4,
 "nbformat_minor": 5
}
