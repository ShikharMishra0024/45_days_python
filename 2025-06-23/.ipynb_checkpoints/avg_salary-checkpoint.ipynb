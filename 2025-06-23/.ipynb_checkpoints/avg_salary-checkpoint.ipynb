{
 "cells": [
  {
   "cell_type": "code",
   "execution_count": 4,
   "id": "4d30b214-1e42-44ef-bc48-232e49f80a5b",
   "metadata": {},
   "outputs": [
    {
     "name": "stdout",
     "output_type": "stream",
     "text": [
      "{'DE': ['1630000\\n', '78000\\n', '48000\\n', '87000\\n', '40700\\n', '50000\\n', '35000\\n', '80000\\n', '80000\\n', '80000\\n', '80350\\n', '800300\\n', '803400\\n', '80000\\n', '80000\\n', '80000\\n', '80000\\n', '80000\\n', '80000\\n', '80000\\n', '80000\\n'], 'economics': ['200000\\n', '200000\\n', '200000\\n', '200000\\n', '200000\\n', '200000\\n', '20000\\n', '200000\\n', '200000\\n', '200000\\n', '200000\\n', '200000\\n', '200000\\n', '200000\\n', '200000\\n', '200000\\n', '200000\\n', '200000\\n', '200000\\n', '200000\\n'], 'labour': ['90000\\n', '90000\\n', '90000\\n', '90000\\n', '3498\\n', '9000\\n', '3000\\n', '90000\\n', '90500\\n', '11000\\n', '9000\\n', '9000\\n', '10000\\n', '90000\\n', '90000\\n', '90000\\n', '90000\\n', '90000\\n', '90000\\n', '90000\\n'], 'lawyer': ['200000\\n', '300000\\n', '20000\\n', '100000\\n', '200000\\n', '200000\\n', '200000\\n', '200000\\n', '220000\\n', '200000\\n', '200000\\n', '200000\\n', '200000\\n', '200000\\n', '200000\\n', '200000\\n', '200000\\n', '200000\\n', '200000\\n', '200000\\n']}\n"
     ]
    }
   ],
   "source": [
    "# avg salary by each dep\n",
    "# sort by dep name\n",
    "with open(\"employees.csv\", \"r\") as row:\n",
    "    # first line is header\n",
    "    row.readline()\n",
    "    \n",
    "    dic = {}\n",
    "    for r in row.readlines():\n",
    "        if r == \"\\n\":\n",
    "            # break if last line\n",
    "            break\n",
    "\n",
    "        salary = r.split(\",\")[-1]\n",
    "        dep = r.split(\",\")[2]\n",
    "        if dep in dic:\n",
    "            dic[dep].append(salary)\n",
    "        else:\n",
    "            dic[dep] = [salary]\n",
    "print(dic)"
   ]
  },
  {
   "cell_type": "code",
   "execution_count": 5,
   "id": "dafeb757-fffe-43d3-bc03-aa9c4e0e261b",
   "metadata": {},
   "outputs": [
    {
     "name": "stdout",
     "output_type": "stream",
     "text": [
      "{'DE': 215845, 'economics': 191000, 'labour': 61249, 'lawyer': 192000}\n"
     ]
    }
   ],
   "source": [
    "avg_sal = {}\n",
    "for key, value in dic.items():\n",
    "    total_salary = 0\n",
    "    for salary in dic[key]:\n",
    "        total_salary += int(salary.split(\"\\n\")[0])\n",
    "    avg_sal[key] = total_salary // len(dic[key])\n",
    "\n",
    "print(avg_sal)"
   ]
  },
  {
   "cell_type": "code",
   "execution_count": null,
   "id": "ba3e857c-8e7a-4392-b46c-fd19377a4529",
   "metadata": {},
   "outputs": [],
   "source": []
  }
 ],
 "metadata": {
  "kernelspec": {
   "display_name": "Python 3 (ipykernel)",
   "language": "python",
   "name": "python3"
  },
  "language_info": {
   "codemirror_mode": {
    "name": "ipython",
    "version": 3
   },
   "file_extension": ".py",
   "mimetype": "text/x-python",
   "name": "python",
   "nbconvert_exporter": "python",
   "pygments_lexer": "ipython3",
   "version": "3.12.3"
  }
 },
 "nbformat": 4,
 "nbformat_minor": 5
}
