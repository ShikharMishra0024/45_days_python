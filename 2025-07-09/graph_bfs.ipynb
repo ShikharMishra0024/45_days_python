{
 "cells": [
  {
   "cell_type": "code",
   "execution_count": 28,
   "id": "f01a9dd1-b922-43ea-a8e0-580de4827b6a",
   "metadata": {},
   "outputs": [],
   "source": [
    "from collections import deque\n",
    "def bfsTraversal(adj, s, visited):\n",
    "    q = deque()\n",
    "    q.append(s)\n",
    "    res = []\n",
    "    visited[s] = True\n",
    "\n",
    "    while q:\n",
    "        curr = q.popleft()\n",
    "        res.append(curr)\n",
    "        \n",
    "        for i in adj[curr]:\n",
    "            if not visited[i]:\n",
    "                q.append(i)\n",
    "                visited[i] = True\n",
    "    for j in res:\n",
    "        print(j, end=\"->\")\n",
    "    return"
   ]
  },
  {
   "cell_type": "code",
   "execution_count": null,
   "id": "d25debb5-ed50-4b29-950c-b1eb257feb35",
   "metadata": {},
   "outputs": [],
   "source": []
  },
  {
   "cell_type": "code",
   "execution_count": 31,
   "id": "0838d5ab-8906-417f-acdb-f11e66b771e5",
   "metadata": {},
   "outputs": [],
   "source": [
    "def bfsDisconnected(adj):\n",
    "    v = len(adj)\n",
    "    #res = []\n",
    "    visited = [False] * v\n",
    "    for i in range(v):\n",
    "        if not visited[i]:\n",
    "            print(\"\\nnew connected graph\\n\")\n",
    "            bfsTraversal(adj, i, visited)\n",
    "    # return res"
   ]
  },
  {
   "cell_type": "code",
   "execution_count": 32,
   "id": "ebee4fae-e269-47d1-916b-df88af50442e",
   "metadata": {},
   "outputs": [
    {
     "name": "stdout",
     "output_type": "stream",
     "text": [
      "\n",
      "new connected graph\n",
      "\n",
      "0->2->4->5->1->3->\n",
      "new connected graph\n",
      "\n",
      "6->7->8->"
     ]
    }
   ],
   "source": [
    "if __name__ == \"__main__\":\n",
    "    adj = [[0, 2], [0], [4, 5], [1, 2], [1, 3, 5, 3], [4], [7], [6, 8], [6]] # disconnected graph\n",
    "    ans = bfsDisconnected(adj) # returns a list of vertices\n",
    "    # for i in ans:\n",
    "    #     print(i, end=\"->\")"
   ]
  },
  {
   "cell_type": "code",
   "execution_count": null,
   "id": "16cba14b-0608-48ac-a847-1c73abd71b36",
   "metadata": {},
   "outputs": [],
   "source": []
  }
 ],
 "metadata": {
  "kernelspec": {
   "display_name": "Python 3 (ipykernel)",
   "language": "python",
   "name": "python3"
  },
  "language_info": {
   "codemirror_mode": {
    "name": "ipython",
    "version": 3
   },
   "file_extension": ".py",
   "mimetype": "text/x-python",
   "name": "python",
   "nbconvert_exporter": "python",
   "pygments_lexer": "ipython3",
   "version": "3.12.3"
  }
 },
 "nbformat": 4,
 "nbformat_minor": 5
}
